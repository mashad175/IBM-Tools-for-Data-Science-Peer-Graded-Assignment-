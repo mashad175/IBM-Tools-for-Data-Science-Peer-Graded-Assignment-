{
 "cells": [
  {
   "cell_type": "markdown",
   "id": "612c8782",
   "metadata": {},
   "source": [
    "<h1>My Jupyter Notebook on IBM Watson Studio</h1>"
   ]
  },
  {
   "cell_type": "markdown",
   "id": "d6581aab",
   "metadata": {},
   "source": [
    "<b> Mashad Bin Shoeb </b> <br>\n",
    "Student"
   ]
  },
  {
   "cell_type": "markdown",
   "id": "dcbe8a43",
   "metadata": {},
   "source": [
    "<i> I am interested in data science because it allows me predict the future using data. Moreover, I want to have a career in \n",
    "data related field in the future.</i>"
   ]
  },
  {
   "cell_type": "markdown",
   "id": "1153efac",
   "metadata": {},
   "source": [
    "<h3> The following code will use loop to count from 1 to 5</h3>"
   ]
  },
  {
   "cell_type": "code",
   "execution_count": 7,
   "id": "1ba12618",
   "metadata": {},
   "outputs": [
    {
     "name": "stdout",
     "output_type": "stream",
     "text": [
      "1  \n",
      "2  \n",
      "3  \n",
      "4  \n",
      "5  \n"
     ]
    }
   ],
   "source": [
    "x = 1\n",
    "while x <=5:\n",
    "    print(x)\n",
    "    x += 1\n"
   ]
  },
  {
   "cell_type": "markdown",
   "id": "cd493398",
   "metadata": {},
   "source": [
    "<h3> Following are the bulleted list of profession in data science: </h3>\n",
    "<ul>\n",
    "    <li>Business Analyst </li>\n",
    "    <li>Data Analyst </li>\n",
    "    <li>Data Scientist </li>\n",
    "    <li>Data Engineer </li>\n",
    "    <li>Developer </li>\n",
    "</ul>\n",
    "<hr>\n",
    "<h3> Following are the numbered list of tools for data science (programming languages): </h3>\n",
    "<ol>\n",
    "    <li>Python </li>\n",
    "    <li>R </li>\n",
    "    <li>Scala </li>\n",
    "    <li>Java </li>\n",
    "    <li>JavaScript </li>\n",
    "</ol>"
   ]
  },
  {
   "cell_type": "code",
   "execution_count": null,
   "id": "9c35af7b",
   "metadata": {},
   "outputs": [],
   "source": []
  }
 ],
 "metadata": {
  "kernelspec": {
   "display_name": "Python 3 (ipykernel)",
   "language": "python",
   "name": "python3"
  },
  "language_info": {
   "codemirror_mode": {
    "name": "ipython",
    "version": 3
   },
   "file_extension": ".py",
   "mimetype": "text/x-python",
   "name": "python",
   "nbconvert_exporter": "python",
   "pygments_lexer": "ipython3",
   "version": "3.9.12"
  }
 },
 "nbformat": 4,
 "nbformat_minor": 5
}
